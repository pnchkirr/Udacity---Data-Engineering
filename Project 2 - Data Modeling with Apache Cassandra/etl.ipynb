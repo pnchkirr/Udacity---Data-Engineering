{
 "cells": [
  {
   "cell_type": "code",
   "execution_count": null,
   "metadata": {
    "editable": true
   },
   "outputs": [],
   "source": [
    "import pandas as pd\n",
    "import cassandra\n",
    "import re\n",
    "import os\n",
    "import glob\n",
    "import numpy as np\n",
    "import json\n",
    "import csv\n",
    "from cql_queries import *\n",
    "from functions import *\n",
    "from drop_create_tables import *"
   ]
  },
  {
   "cell_type": "markdown",
   "metadata": {
    "editable": true
   },
   "source": [
    "# Part I\n",
    "## ETL Pipeline: Pre-Processing the files (EXTRACT + TRANSFORM)"
   ]
  },
  {
   "cell_type": "code",
   "execution_count": null,
   "metadata": {
    "editable": true
   },
   "outputs": [],
   "source": [
    "# get the current working directory\n",
    "pwd = os.getcwd()\n",
    "\n",
    "# calling the preprocessing function\n",
    "preprocessing_csv_files(pwd)\n",
    "\n",
    "# check the number of rows in the combined csv file\n",
    "with open('event_datafile_new.csv', 'r', encoding = 'utf8') as f:\n",
    "    print(\"Total rows merged:\", sum(1 for line in f))"
   ]
  },
  {
   "cell_type": "markdown",
   "metadata": {
    "editable": true
   },
   "source": [
    "# Part II\n",
    "## ETL Pipeline: Creating and Filling the Apache Cassandra Database (TRANSFORM + LOAD)\n",
    "\n",
    "### The event_datafile_new.csv contains the following columns: \n",
    "- <strong>artist</strong> = artist name\n",
    "- <strong>firstName</strong> = user's first name\n",
    "- <strong>gender</strong> = users' gender\n",
    "- <strong>itemInSession</strong> = item number in session\n",
    "- <strong>lastName</strong> = user's last name\n",
    "- <strong>length</strong> = song's duration (in seconds)\n",
    "- <strong>level</strong> = indicates if the song is paid or free\n",
    "- <strong>location</strong> = user's location\n",
    "- <strong>sessionId</strong> = users's session ID\n",
    "- <strong>song</strong> = song's title\n",
    "- <strong>userId</strong> = user's ID\n",
    "\n",
    "The image below is a screenshot of what the denormalized data should appear like in the <font color=red>**event_datafile_new.csv**</font> after the code above is run:<br>\n",
    "\n",
    "<img src=\"images/image_event_datafile_new.jpg\">"
   ]
  },
  {
   "cell_type": "markdown",
   "metadata": {
    "editable": true
   },
   "source": [
    "### Let's start building our database"
   ]
  },
  {
   "cell_type": "markdown",
   "metadata": {
    "editable": true
   },
   "source": [
    "### The first thing we need to do is to create a Keyspace"
   ]
  },
  {
   "cell_type": "markdown",
   "metadata": {
    "editable": true
   },
   "source": [
    "#### Create a Cluster and establish connection to it"
   ]
  },
  {
   "cell_type": "code",
   "execution_count": null,
   "metadata": {
    "editable": true
   },
   "outputs": [],
   "source": [
    "# Make a connection to the local machine Cassandra instance (127.0.0.1)\n",
    "from cassandra.cluster import Cluster\n",
    "cluster = Cluster()\n",
    "\n",
    "# Create a session to establish connection and begin executing queries\n",
    "session = cluster.connect()"
   ]
  },
  {
   "cell_type": "markdown",
   "metadata": {
    "editable": true
   },
   "source": [
    "#### Create and set a Keyspace"
   ]
  },
  {
   "cell_type": "markdown",
   "metadata": {
    "editable": true
   },
   "source": [
    "##### Drop a Keyspace if it already exists"
   ]
  },
  {
   "cell_type": "code",
   "execution_count": null,
   "metadata": {
    "editable": true
   },
   "outputs": [],
   "source": [
    "try:\n",
    "    session.execute(drop_keyspace)\n",
    "except Exception as e:\n",
    "    print(e)"
   ]
  },
  {
   "cell_type": "markdown",
   "metadata": {
    "editable": true
   },
   "source": [
    "##### Create a new Keyspace"
   ]
  },
  {
   "cell_type": "code",
   "execution_count": null,
   "metadata": {
    "editable": true
   },
   "outputs": [],
   "source": [
    "try:\n",
    "    session.execute(create_keyspace)\n",
    "except Exception as e:\n",
    "    print(e)"
   ]
  },
  {
   "cell_type": "markdown",
   "metadata": {
    "editable": true
   },
   "source": [
    "##### Set a Keyspace"
   ]
  },
  {
   "cell_type": "code",
   "execution_count": null,
   "metadata": {
    "editable": true
   },
   "outputs": [],
   "source": [
    "try:\n",
    "    session.set_keyspace('sparkifydb')\n",
    "except Exception as e:\n",
    "    print(e)"
   ]
  },
  {
   "cell_type": "markdown",
   "metadata": {
    "editable": true
   },
   "source": [
    "### When working with NoSQL Databases (Apache Cassandra in our case), we model the tables on the queries we intend to run "
   ]
  },
  {
   "cell_type": "markdown",
   "metadata": {
    "editable": true
   },
   "source": [
    "### Let's take a look at the queries we want to run on our database:"
   ]
  },
  {
   "cell_type": "markdown",
   "metadata": {
    "editable": true
   },
   "source": [
    "#### 1. Give me the artist, song title and song's length in the music app history that was heard during  sessionId = 338, and itemInSession  = 4\n",
    "\n",
    "\n",
    "#### 2. Give me only the following: name of artist, song (sorted by itemInSession) and user (first and last name) for userid = 10, sessionid = 182\n",
    "    \n",
    "\n",
    "#### 3. Give me every user name (first and last) in my music app history who listened to the song 'All Hands Against His Own'"
   ]
  },
  {
   "cell_type": "markdown",
   "metadata": {
    "editable": true
   },
   "source": [
    "### Let's create a separate table for each of the queries above and name them as:\n",
    "\n",
    "#### 1. session_song_details\n",
    "\n",
    "#### 2. user_session_songs\n",
    "\n",
    "#### 3. user_songs"
   ]
  },
  {
   "cell_type": "code",
   "execution_count": null,
   "metadata": {
    "editable": true
   },
   "outputs": [],
   "source": [
    "try:\n",
    "    drop_tables(session)\n",
    "except Exception as e:\n",
    "    print(e)\n",
    "    \n",
    "try:\n",
    "    create_tables(session)\n",
    "except Exception as e:\n",
    "    print(e)"
   ]
  },
  {
   "cell_type": "markdown",
   "metadata": {
    "editable": true
   },
   "source": [
    "### Let's fill the tables with the data from event_datafile_new.csv by executing corresponding INSERT statements"
   ]
  },
  {
   "cell_type": "code",
   "execution_count": null,
   "metadata": {
    "editable": true
   },
   "outputs": [],
   "source": [
    "file = 'event_datafile_new.csv'"
   ]
  },
  {
   "cell_type": "markdown",
   "metadata": {
    "editable": true
   },
   "source": [
    "#### WARNING: The next code snippet's execution may take some time to finish\n",
    "#### That's because it combines INSERT statements for all three tables created"
   ]
  },
  {
   "cell_type": "code",
   "execution_count": null,
   "metadata": {
    "editable": true
   },
   "outputs": [],
   "source": [
    "with open(file, encoding = 'utf8') as f:\n",
    "    csvreader = csv.reader(f)\n",
    "    next(csvreader) # skip header\n",
    "    for line in csvreader:\n",
    "        session.execute(first_table_insert, ( int(line[8]), int(line[3]), line[0], line[9], float(line[5])) )\n",
    "        session.execute(second_table_insert, ( int(line[10]), int(line[8]), int(line[3]), line[1], line[4], line[0], line[9] ) )\n",
    "        session.execute(third_table_insert, ( line[9], int(line[10]), line[1], line[4] )"
   ]
  },
  {
   "cell_type": "markdown",
   "metadata": {
    "editable": true
   },
   "source": [
    "# Part III\n",
    "## Data Verification"
   ]
  },
  {
   "cell_type": "markdown",
   "metadata": {
    "editable": true
   },
   "source": [
    "### Let's now execute SELECT statements for each of the table to ensure the data has been successfully inserted"
   ]
  },
  {
   "cell_type": "markdown",
   "metadata": {
    "editable": true
   },
   "source": [
    "1. Give me the artist, song title and song's length in the music app history that was heard during sessionId = 338, and itemInSession = 4"
   ]
  },
  {
   "cell_type": "markdown",
   "metadata": {
    "editable": true
   },
   "source": [
    "#### PRIMARY KEY: (sessionId, itemInSession) \n",
    "##### PARTITION KEY: sessionId, itemInSession\n",
    "##### CLUSTERING COLUMN(S): -\n",
    "#### For the first table, the columns sessionId, itemInSession were used as a Partition Key because the SELECT query needs to filter by these columns.\n",
    "#### No column(s) were used as Clustering because there can be only one resulting row for each sessionId / itemInSession pair. So there's no need to sort anything."
   ]
  },
  {
   "cell_type": "code",
   "execution_count": null,
   "metadata": {
    "editable": true
   },
   "outputs": [],
   "source": [
    "try:\n",
    "    rows = session.execute(first_table_select)\n",
    "except Exception as e:\n",
    "    print(e)\n",
    "    \n",
    "data = []\n",
    "for row in rows:\n",
    "    data.append(row)\n",
    "    df = pd.DataFrame(data)\n",
    "df"
   ]
  },
  {
   "cell_type": "markdown",
   "metadata": {
    "editable": true
   },
   "source": [
    "2. Give me only the following: name of artist, song (sorted by itemInSession) and user (first and last name) for userid = 10, sessionid = 182¶"
   ]
  },
  {
   "cell_type": "markdown",
   "metadata": {
    "editable": true
   },
   "source": [
    "#### PRIMARY KEY: ((userId , sessionId),  itemInSession)\n",
    "##### PARTITION KEY: userId , sessionId\n",
    "##### CLUSTERING COLUMN: itemInSession\n",
    "#### For the second table, the columns userId, sessionId were used as a Partition Key because the SELECT query needs to filter by these columns.\n",
    "#### Though the two columns above represent a Partition Key, they're not enough to make the PRIMARY KEY unique.\n",
    "#### To fix that, one more column is included in the PRIMARY KEY - itemInSession. It will be a Clustering Column because the SELECT query requests the data to be sorted by itemInSession."
   ]
  },
  {
   "cell_type": "code",
   "execution_count": null,
   "metadata": {
    "editable": true
   },
   "outputs": [],
   "source": [
    "try:\n",
    "    rows = session.execute(second_table_select)\n",
    "except Exception as e:\n",
    "    print(e)\n",
    "    \n",
    "data = []\n",
    "for row in rows:\n",
    "    data.append(row)\n",
    "    df = pd.DataFrame(data)\n",
    "df"
   ]
  },
  {
   "cell_type": "markdown",
   "metadata": {
    "editable": true
   },
   "source": [
    "3. Give me every user name (first and last) in my music app history who listened to the song 'All Hands Against His Own'"
   ]
  },
  {
   "cell_type": "markdown",
   "metadata": {
    "editable": true
   },
   "source": [
    "#### PRIMARY KEY: ((song),  userId)\n",
    "##### PARTITION KEY: song\n",
    "##### CLUSTERING COLUMN: userId\n",
    "#### For the third table, the column song was used as a Partition Key because the SELECT query needs to filter by this column.\n",
    "#### Though this column may represent a Partition Key, it's not enough to make the PRIMARY KEY unique. \n",
    "#### To fix that, one more column (Clustering) is included in the PRIMARY KEY - userId. "
   ]
  },
  {
   "cell_type": "code",
   "execution_count": null,
   "metadata": {
    "editable": true
   },
   "outputs": [],
   "source": [
    "try:\n",
    "    rows = session.execute(third_table_select)\n",
    "except Exception as e:\n",
    "    print(e)\n",
    "    \n",
    "data = []\n",
    "for row in rows:\n",
    "    data.append(row)\n",
    "    df = pd.DataFrame(data)\n",
    "df"
   ]
  },
  {
   "cell_type": "markdown",
   "metadata": {
    "editable": true
   },
   "source": [
    "### Let's drop the tables before closing out the session"
   ]
  },
  {
   "cell_type": "code",
   "execution_count": null,
   "metadata": {
    "editable": true
   },
   "outputs": [],
   "source": [
    "try:\n",
    "    drop_tables(session)\n",
    "except Exception as e:\n",
    "    print(e)"
   ]
  },
  {
   "cell_type": "markdown",
   "metadata": {
    "editable": true
   },
   "source": [
    "### And now let's close the session and cluster connection¶"
   ]
  },
  {
   "cell_type": "code",
   "execution_count": null,
   "metadata": {
    "editable": true
   },
   "outputs": [],
   "source": [
    "session.shutdown()\n",
    "cluster.shutdown()"
   ]
  },
  {
   "cell_type": "code",
   "execution_count": null,
   "metadata": {
    "editable": true
   },
   "outputs": [],
   "source": []
  }
 ],
 "metadata": {
  "kernelspec": {
   "display_name": "Python 3",
   "language": "python",
   "name": "python3"
  },
  "language_info": {
   "codemirror_mode": {
    "name": "ipython",
    "version": 3
   },
   "file_extension": ".py",
   "mimetype": "text/x-python",
   "name": "python",
   "nbconvert_exporter": "python",
   "pygments_lexer": "ipython3",
   "version": "3.6.3"
  }
 },
 "nbformat": 4,
 "nbformat_minor": 4
}
